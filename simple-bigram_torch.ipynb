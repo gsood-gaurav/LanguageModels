{
 "cells": [
  {
   "cell_type": "code",
   "execution_count": 57,
   "metadata": {},
   "outputs": [],
   "source": [
    "from pathlib import Path\n",
    "import torch\n",
    "import torch.nn as nn\n",
    "import torch.nn.functional as F"
   ]
  },
  {
   "cell_type": "code",
   "execution_count": 58,
   "metadata": {},
   "outputs": [
    {
     "data": {
      "text/plain": [
       "<torch._C.Generator at 0x1123c0b30>"
      ]
     },
     "execution_count": 58,
     "metadata": {},
     "output_type": "execute_result"
    }
   ],
   "source": [
    "torch.manual_seed(0)"
   ]
  },
  {
   "cell_type": "code",
   "execution_count": 59,
   "metadata": {},
   "outputs": [],
   "source": [
    "file_path = Path(\"./input.txt\")\n",
    "text = file_path.read_text(encoding=\"utf-8\")\n",
    "vocab = sorted(set(text))\n",
    "vocab_size = len(vocab)"
   ]
  },
  {
   "cell_type": "code",
   "execution_count": 60,
   "metadata": {},
   "outputs": [],
   "source": [
    "stoi = {v:k for k, v in enumerate(vocab)}\n",
    "itos = {v:k for k, v in stoi.items()}\n",
    "encode = lambda s: [stoi[c] for c in s]\n",
    "decode = lambda s: \"\".join(itos[i] for i in s)"
   ]
  },
  {
   "cell_type": "code",
   "execution_count": 61,
   "metadata": {},
   "outputs": [],
   "source": [
    "# Traning data into tokens\n",
    "data = encode(text)\n",
    "split = int(0.9 * len(data))\n",
    "train_data = data[:split]\n",
    "val_data = data[split:]"
   ]
  },
  {
   "cell_type": "code",
   "execution_count": null,
   "metadata": {},
   "outputs": [],
   "source": [
    "\n"
   ]
  },
  {
   "cell_type": "code",
   "execution_count": 62,
   "metadata": {},
   "outputs": [],
   "source": [
    "batch_size = 4\n",
    "block_size = 8\n",
    "def get_batches(dt):\n",
    "    data = train_data if (dt == \"train\") else val_data\n",
    "    ix = torch.randint(0, len(data)-8, (batch_size,))\n",
    "    train_batch = torch.stack([torch.tensor(data[i:i+block_size]) for i in ix])\n",
    "    target_batch = torch.stack([torch.tensor(data[i+1:i+block_size+1]) for i in ix])\n",
    "\n",
    "    return train_batch, target_batch"
   ]
  },
  {
   "cell_type": "code",
   "execution_count": 63,
   "metadata": {},
   "outputs": [],
   "source": [
    "xb, yb = get_batches(\"train_data\")"
   ]
  },
  {
   "cell_type": "code",
   "execution_count": 64,
   "metadata": {},
   "outputs": [
    {
     "data": {
      "text/plain": [
       "tensor([[41, 39, 52,  1, 41, 53, 52, 57],\n",
       "        [ 1, 50, 47, 51, 47, 58,  6,  0],\n",
       "        [53, 56,  1, 51, 63, 57, 43, 50],\n",
       "        [58, 57, 61, 39, 47, 52, 10,  0]])"
      ]
     },
     "execution_count": 64,
     "metadata": {},
     "output_type": "execute_result"
    }
   ],
   "source": [
    "xb"
   ]
  },
  {
   "cell_type": "code",
   "execution_count": 65,
   "metadata": {},
   "outputs": [],
   "source": [
    "def visualize(data):\n",
    "    train, target = get_batches(data)\n",
    "    print(train)\n",
    "    print(target)\n",
    "    for tr, tg in zip(train, target):\n",
    "        for index in range(block_size):\n",
    "            print(f\"If train_data is {tr[0:index+1]} then target is {tg[index]}\")\n",
    "\n",
    "# visualize(\"train_data\")\n"
   ]
  },
  {
   "cell_type": "code",
   "execution_count": 134,
   "metadata": {},
   "outputs": [
    {
     "name": "stdout",
     "output_type": "stream",
     "text": [
      "torch.Size([4, 8, 65])\n",
      "tensor(4.2626, grad_fn=<NllLossBackward0>)\n"
     ]
    }
   ],
   "source": [
    "class BiGramLanguageModel(nn.Module):\n",
    "    def __init__(self, vocab_size):\n",
    "        super().__init__()\n",
    "        self.emb = nn.Embedding(vocab_size, vocab_size)\n",
    "    \n",
    "    def forward(self, xb, target=None):\n",
    "        logits = self.emb(xb)\n",
    "        B, T, C = logits.shape\n",
    "        # cross entropy takes input a flat structure as follows in case of logits.\n",
    "        if target is not None:\n",
    "            loss = F.cross_entropy(logits.view((B*T), C), target.view(-1))\n",
    "        else:\n",
    "            loss = None\n",
    "        return logits, loss\n",
    "    \n",
    "    def generate(self, idx, max_new_tokens):\n",
    "        for _ in range(max_new_tokens):\n",
    "            # get the predictions\n",
    "            logits, loss = self(idx)\n",
    "            # focus only on last time step, becomes B, C\n",
    "            logits = logits[:,-1,:]\n",
    "            # apply softmax to get probabilites\n",
    "            probs = F.softmax(logits, dim=1)\n",
    "            # sample from the distribution, returns indices\n",
    "            idx_next = torch.multinomial(probs, num_samples=1)\n",
    "            # we are building a context here.\n",
    "            idx = torch.cat([idx, idx_next], dim=1) # (B, T+1)\n",
    "\n",
    "        return idx\n",
    "\n",
    "\n",
    "model = BiGramLanguageModel(vocab_size)\n",
    "logits, loss = model(xb, yb)\n",
    "print(logits.shape)\n",
    "print(loss)"
   ]
  },
  {
   "cell_type": "code",
   "execution_count": 136,
   "metadata": {},
   "outputs": [
    {
     "data": {
      "text/plain": [
       "\"\\nuLELkeJfmJqCxdu-CxD.gQPRp$llORv'R!wPe.tNl;dLXNpantmODk,3XahXLlIpsgC'XUUtwGEqT3Cl$THFdjOsGNtAfvQvRBpY\""
      ]
     },
     "execution_count": 136,
     "metadata": {},
     "output_type": "execute_result"
    }
   ],
   "source": [
    "decode(model.generate(torch.tensor([[0]]), 100)[0].tolist())"
   ]
  },
  {
   "cell_type": "code",
   "execution_count": 139,
   "metadata": {},
   "outputs": [],
   "source": [
    "# create a pytroch optimizer object\n",
    "optimizer = torch.optim.AdamW(model.parameters(), lr=1e-3)"
   ]
  },
  {
   "cell_type": "code",
   "execution_count": 148,
   "metadata": {},
   "outputs": [
    {
     "name": "stdout",
     "output_type": "stream",
     "text": [
      "2.419814348220825\n"
     ]
    }
   ],
   "source": [
    "batch_size = 32\n",
    "for steps in range(10000):\n",
    "    xb, yb = get_batches(\"train_data\")\n",
    "    logits, loss = model(xb, yb)\n",
    "    optimizer.zero_grad(set_to_none=True)\n",
    "    loss.backward()\n",
    "    optimizer.step()\n",
    "\n",
    "print(loss.item())"
   ]
  },
  {
   "cell_type": "code",
   "execution_count": 151,
   "metadata": {},
   "outputs": [
    {
     "name": "stdout",
     "output_type": "stream",
     "text": [
      "\n",
      "Tow's, o ufureyobe neithariaid keeithand Kange ay?\n",
      "CUCHor s IO:\n",
      "ANoufr t imeplt wisoneede t sistoceabeave bllsathest?\n",
      "stone t s m d are.\n",
      "Whingot nd 'd.\n",
      "A:\n",
      "VRA ff t. slenee s of enon\n",
      "TRO:\n",
      "ISPERTHOnous pl, CHADin oubooustr sinicarod towhan hin bint t ysofonsth t sh\n",
      "ASI IA:\n",
      "'sinshengou ts Kam umaninour'merd SI ond he\n",
      "PENAPENATRUwede t by be'le, as s, n be VIONDouce f tll hepr.\n",
      "\n",
      "Pher IERUMy whed te mi\n"
     ]
    }
   ],
   "source": [
    "print(decode(model.generate(torch.tensor([[0]]), 400)[0].tolist()))"
   ]
  },
  {
   "cell_type": "code",
   "execution_count": null,
   "metadata": {},
   "outputs": [],
   "source": []
  }
 ],
 "metadata": {
  "kernelspec": {
   "display_name": "ml",
   "language": "python",
   "name": "python3"
  },
  "language_info": {
   "codemirror_mode": {
    "name": "ipython",
    "version": 3
   },
   "file_extension": ".py",
   "mimetype": "text/x-python",
   "name": "python",
   "nbconvert_exporter": "python",
   "pygments_lexer": "ipython3",
   "version": "3.10.14"
  }
 },
 "nbformat": 4,
 "nbformat_minor": 2
}
