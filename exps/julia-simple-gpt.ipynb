{
 "cells": [
  {
   "cell_type": "code",
   "execution_count": 34,
   "metadata": {},
   "outputs": [
    {
     "data": {
      "text/plain": [
       "\"First Citizen:\\nBefore we proceed any further, hear me speak.\\n\\nAll:\\nSpeak, speak.\\n\\nFirst Citizen:\\nYou are all resolved rather to die than to famish?\\n\\nAll:\\nResolved. resolved.\\n\\nFirst Citizen:\\nFirst, you know Caius Marcius is chief enemy to the people.\\n\\nAll:\\nWe know't, we\"\u001b[93m\u001b[1m ⋯ 1114857 bytes ⋯ \u001b[22m\u001b[39m\"peak'st\\nOut of thy sleep. What is it thou didst say?\\nThis is a strange repose, to be asleep\\nWith eyes wide open; standing, speaking, moving,\\nAnd yet so fast asleep.\\n\\nANTONIO:\\nNoble Sebastian,\\nThou let'st thy fortune sleep--die, rather; wink'st\\nWhiles thou art waking.\\n\""
      ]
     },
     "metadata": {},
     "output_type": "display_data"
    }
   ],
   "source": [
    "text = open(io->read(io, String), \"input.txt\")"
   ]
  },
  {
   "cell_type": "code",
   "execution_count": 10,
   "metadata": {},
   "outputs": [
    {
     "data": {
      "text/plain": [
       "65"
      ]
     },
     "metadata": {},
     "output_type": "display_data"
    }
   ],
   "source": [
    "chars = sort(collect(Set(text)))\n",
    "vocab_size = length(chars)"
   ]
  },
  {
   "cell_type": "code",
   "execution_count": 21,
   "metadata": {},
   "outputs": [
    {
     "data": {
      "text/plain": [
       "Dict{Int64, Char} with 65 entries:\n",
       "  5  => '&'\n",
       "  56 => 'q'\n",
       "  16 => 'C'\n",
       "  55 => 'p'\n",
       "  35 => 'V'\n",
       "  20 => 'G'\n",
       "  60 => 'u'\n",
       "  30 => 'Q'\n",
       "  19 => 'F'\n",
       "  32 => 'S'\n",
       "  49 => 'j'\n",
       "  6  => '\\''\n",
       "  45 => 'f'\n",
       "  44 => 'e'\n",
       "  9  => '.'\n",
       "  31 => 'R'\n",
       "  64 => 'y'\n",
       "  61 => 'v'\n",
       "  29 => 'P'\n",
       "  ⋮  => ⋮"
      ]
     },
     "metadata": {},
     "output_type": "display_data"
    }
   ],
   "source": [
    "stoi = Dict([(k,v) for (v, k) in enumerate(chars)])\n",
    "itos = Dict([(k, v) for (v, k) in pairs(stoi)])"
   ]
  },
  {
   "cell_type": "code",
   "execution_count": 27,
   "metadata": {},
   "outputs": [
    {
     "data": {
      "text/plain": [
       "Xoshiro(0xdb2fa90498613fdf, 0x48d73dc42d195740, 0x8c49bc52dc8a77ea, 0x1911b814c02405e8, 0x22a21880af5dc689)"
      ]
     },
     "metadata": {},
     "output_type": "display_data"
    }
   ],
   "source": [
    "using Random\n",
    "rng = Xoshiro(0)     # Creates a Xoshiro PRNG with seed 0"
   ]
  },
  {
   "cell_type": "code",
   "execution_count": 28,
   "metadata": {},
   "outputs": [
    {
     "data": {
      "text/plain": [
       "4-element Vector{Float32}:\n",
       " 0.9429705\n",
       " 0.13392276\n",
       " 1.5250689\n",
       " 0.12390123"
      ]
     },
     "metadata": {},
     "output_type": "display_data"
    }
   ],
   "source": [
    "v = randn(rng, Float32, 4)"
   ]
  },
  {
   "cell_type": "code",
   "execution_count": 29,
   "metadata": {},
   "outputs": [],
   "source": [
    "struct TestFunc\n",
    "    w\n",
    "    b\n",
    "end\n",
    "\n",
    "function (f::TestFunc)(x)\n",
    "    return f.w * x .+ f.b\n",
    "end\n"
   ]
  },
  {
   "cell_type": "code",
   "execution_count": 32,
   "metadata": {},
   "outputs": [
    {
     "data": {
      "text/plain": [
       "7"
      ]
     },
     "metadata": {},
     "output_type": "display_data"
    }
   ],
   "source": [
    "t = TestFunc(2, 3)\n",
    "t(2)"
   ]
  },
  {
   "cell_type": "code",
   "execution_count": 38,
   "metadata": {},
   "outputs": [
    {
     "data": {
      "text/plain": [
       "#47 (generic function with 1 method)"
      ]
     },
     "metadata": {},
     "output_type": "display_data"
    }
   ],
   "source": [
    "io->read(io, String)(open(\"input.txt\"))"
   ]
  },
  {
   "cell_type": "code",
   "execution_count": 36,
   "metadata": {},
   "outputs": [
    {
     "ename": "UndefVarError",
     "evalue": "UndefVarError: `io` not defined",
     "output_type": "error",
     "traceback": [
      "UndefVarError: `io` not defined\n",
      "\n",
      "Stacktrace:\n",
      " [1] top-level scope\n",
      "   @ ~/pers/gaurav_git_repos/LanguageModels/jl_notebook_cell_df34fa98e69747e1a8f8a730347b8e2f_X14sdnNjb2RlLXJlbW90ZQ==.jl:1"
     ]
    }
   ],
   "source": [
    "read(io, String)"
   ]
  },
  {
   "cell_type": "code",
   "execution_count": 37,
   "metadata": {},
   "outputs": [
    {
     "data": {
      "text/plain": [
       "#45 (generic function with 1 method)"
      ]
     },
     "metadata": {},
     "output_type": "display_data"
    }
   ],
   "source": [
    "io->begin read(io, String) end"
   ]
  },
  {
   "cell_type": "code",
   "execution_count": null,
   "metadata": {},
   "outputs": [],
   "source": []
  }
 ],
 "metadata": {
  "kernelspec": {
   "display_name": "Julia 1.10.3",
   "language": "julia",
   "name": "julia-1.10"
  },
  "language_info": {
   "file_extension": ".jl",
   "mimetype": "application/julia",
   "name": "julia",
   "version": "1.10.3"
  }
 },
 "nbformat": 4,
 "nbformat_minor": 2
}
